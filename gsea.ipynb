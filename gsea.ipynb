{
 "cells": [
  {
   "cell_type": "code",
   "execution_count": null,
   "id": "a40f5710",
   "metadata": {},
   "outputs": [],
   "source": []
  },
  {
   "cell_type": "code",
   "execution_count": null,
   "id": "652a7954",
   "metadata": {},
   "outputs": [],
   "source": [
    "import pandas as pd\n",
    "import numpy as np\n",
    "import seaborn as sns\n",
    "import matplotlib.pyplot as plt\n",
    "import gseapy as gp\n",
    "import pickle\n",
    "from tqdm import tqdm\n",
    "plt.style.use('default')"
   ]
  },
  {
   "cell_type": "code",
   "execution_count": 111,
   "id": "78cab166",
   "metadata": {},
   "outputs": [
    {
     "name": "stdout",
     "output_type": "stream",
     "text": [
      "3 49 (49, 5)\n"
     ]
    }
   ],
   "source": [
    "# 定义目录和样本列表\n",
    "inputdir = '/mnt/disk7t/xwj/axolotl_rev/pfib_423' # expression matrix & sample information\n",
    "networkdir = '/mnt/disk7t/xwj/axolotl_rev/pfib_423/data' # ae networks\n",
    "outdir = '/mnt/disk7t/xwj/axolotl_rev/pfib_423/output' # output directory: figures,  tables\n",
    "\n",
    "# table of expression outlier analysis\n",
    "result_baseline = {\n",
    "    'outsingle':f'{inputdir}/osg_res_1_001.txt', # method 1\n",
    "    'outrider': f'{inputdir}/outrider_res_1_001.txt', # method 2\n",
    "    'outrider_cts': f'{inputdir}/outrider_norm_cts_1_001.txt',\n",
    "    'trueoutlier': f'{inputdir}/df_true49.txt', # known outlier information\n",
    "}\n",
    "\n",
    "# file = f'{datadir}/df_true49.txt'\n",
    "df_outlier = pd.read_csv(result_baseline['trueoutlier'], sep=\"\\t\", index_col=None)\n",
    "list_samples = df_outlier['Sample'].tolist()\n",
    "\n",
    "# names of samples to be highlighted in clustermap \n",
    "hi_samples = ['R15264','R52016','R28774']\n",
    "print(len( hi_samples), len(list_samples), df_outlier.shape)\n",
    "\n",
    "# 定义通用的文件路径模板\n",
    "file_node_df_template = \"{networkdir}/node_df_{sample}.txt\"\n",
    "file_heatmap_template = \"{outdir}/gsea_heatmap_{method}.pdf\"\n",
    "# 输出文件\n",
    "file_gene_set = f'{outdir}/gmt.pkl'\n",
    "file_hi_gsea_result = f'{outdir}/gsea_results.txt'\n",
    "file_go_box = f\"{outdir}/go_box.svg\""
   ]
  },
  {
   "cell_type": "code",
   "execution_count": 2,
   "id": "a0759031",
   "metadata": {},
   "outputs": [
    {
     "name": "stdout",
     "output_type": "stream",
     "text": [
      "32\n"
     ]
    }
   ],
   "source": [
    "# 初始化 Msigdb API\n",
    "msig = gp.Msigdb()\n",
    "print(len( msig.list_category() ))"
   ]
  },
  {
   "cell_type": "code",
   "execution_count": 82,
   "id": "32596580",
   "metadata": {},
   "outputs": [
    {
     "data": {
      "text/plain": [
       "7608"
      ]
     },
     "execution_count": 82,
     "metadata": {},
     "output_type": "execute_result"
    }
   ],
   "source": [
    "# 下载特定的基因集文件\n",
    "# 'h.all'\n",
    "catg = 'c5.go.bp'\n",
    "dv = '2024.1.Hs'\n",
    "gmt = msig.get_gmt(category=catg, dbver=dv)\n",
    "len( gmt )"
   ]
  },
  {
   "cell_type": "code",
   "execution_count": 80,
   "id": "7e4dbf8e",
   "metadata": {},
   "outputs": [],
   "source": [
    "with open(file_gene_set, 'wb') as f:\n",
    "    pickle.dump(gmt, f)"
   ]
  },
  {
   "cell_type": "code",
   "execution_count": 125,
   "id": "69623099",
   "metadata": {},
   "outputs": [
    {
     "name": "stderr",
     "output_type": "stream",
     "text": [
      "100%|████████████████████████████████████████████████████████████████████████████████████████████████████████████████████████████████████████████████████████████████████████| 49/49 [00:00<00:00, 357.65it/s]\n"
     ]
    },
    {
     "name": "stdout",
     "output_type": "stream",
     "text": [
      "(10840, 7) (49, 5) 49\n"
     ]
    },
    {
     "data": {
      "text/html": [
       "<div>\n",
       "<style scoped>\n",
       "    .dataframe tbody tr th:only-of-type {\n",
       "        vertical-align: middle;\n",
       "    }\n",
       "\n",
       "    .dataframe tbody tr th {\n",
       "        vertical-align: top;\n",
       "    }\n",
       "\n",
       "    .dataframe thead th {\n",
       "        text-align: right;\n",
       "    }\n",
       "</style>\n",
       "<table border=\"1\" class=\"dataframe\">\n",
       "  <thead>\n",
       "    <tr style=\"text-align: right;\">\n",
       "      <th></th>\n",
       "      <th>id</th>\n",
       "      <th>AE</th>\n",
       "      <th>group</th>\n",
       "      <th>5</th>\n",
       "      <th>10</th>\n",
       "      <th>15</th>\n",
       "      <th>sample</th>\n",
       "    </tr>\n",
       "  </thead>\n",
       "  <tbody>\n",
       "    <tr>\n",
       "      <th>0</th>\n",
       "      <td>ALDH18A1</td>\n",
       "      <td>8.186405e-16</td>\n",
       "      <td>AE</td>\n",
       "      <td>0</td>\n",
       "      <td>0</td>\n",
       "      <td>0</td>\n",
       "      <td>R80184</td>\n",
       "    </tr>\n",
       "    <tr>\n",
       "      <th>1</th>\n",
       "      <td>TMEM263</td>\n",
       "      <td>7.829135e-01</td>\n",
       "      <td>L1</td>\n",
       "      <td>0</td>\n",
       "      <td>0</td>\n",
       "      <td>0</td>\n",
       "      <td>R80184</td>\n",
       "    </tr>\n",
       "    <tr>\n",
       "      <th>2</th>\n",
       "      <td>MAGED1</td>\n",
       "      <td>9.435964e-03</td>\n",
       "      <td>L1</td>\n",
       "      <td>0</td>\n",
       "      <td>0</td>\n",
       "      <td>0</td>\n",
       "      <td>R80184</td>\n",
       "    </tr>\n",
       "    <tr>\n",
       "      <th>3</th>\n",
       "      <td>SEC31A</td>\n",
       "      <td>3.416909e-01</td>\n",
       "      <td>L1</td>\n",
       "      <td>0</td>\n",
       "      <td>0</td>\n",
       "      <td>0</td>\n",
       "      <td>R80184</td>\n",
       "    </tr>\n",
       "    <tr>\n",
       "      <th>4</th>\n",
       "      <td>BET1L</td>\n",
       "      <td>6.100061e-01</td>\n",
       "      <td>L1</td>\n",
       "      <td>0</td>\n",
       "      <td>0</td>\n",
       "      <td>0</td>\n",
       "      <td>R80184</td>\n",
       "    </tr>\n",
       "  </tbody>\n",
       "</table>\n",
       "</div>"
      ],
      "text/plain": [
       "         id            AE group  5  10  15  sample\n",
       "0  ALDH18A1  8.186405e-16    AE  0   0   0  R80184\n",
       "1   TMEM263  7.829135e-01    L1  0   0   0  R80184\n",
       "2    MAGED1  9.435964e-03    L1  0   0   0  R80184\n",
       "3    SEC31A  3.416909e-01    L1  0   0   0  R80184\n",
       "4     BET1L  6.100061e-01    L1  0   0   0  R80184"
      ]
     },
     "execution_count": 125,
     "metadata": {},
     "output_type": "execute_result"
    },
    {
     "data": {
      "image/png": "[encoded data removed]",
      "text/plain": [
       "<Figure size 800x200 with 1 Axes>"
      ]
     },
     "metadata": {},
     "output_type": "display_data"
    }
   ],
   "source": [
    "# Loop through the sample list and read node list file, then concatenate\n",
    "dfs = []\n",
    "for sample in tqdm(list_samples):\n",
    "    # file_path = f'{networkdir}/data/node_df_{sample}.txt'\n",
    "    file_path = file_node_df_template.format(networkdir=networkdir, sample=sample)\n",
    "    temp_df = pd.read_csv(file_path, sep='\\t', index_col=0)\n",
    "    temp_df['sample'] = sample  # Add a column to identify the sample\n",
    "    # print(temp_df.shape)\n",
    "    dfs.append(temp_df)\n",
    "\n",
    "# Concatenate all dataframes\n",
    "df = pd.concat(dfs)\n",
    "print( df.shape, df_outlier.shape, len(dfs) )\n",
    "df['sample'].value_counts(sort=True).plot(kind='bar', width=0.9, figsize =(8,2))\n",
    "df.head()"
   ]
  },
  {
   "cell_type": "code",
   "execution_count": null,
   "id": "5211b8b8",
   "metadata": {},
   "outputs": [],
   "source": [
    "# 输入df,按照sample名称分组，提取3个genelist; 用每个 genelist 运行 GSEA 分析，结果合并成一个 dataframe，绘制热图\n",
    "gene_lists = {sample: df.query('sample == @sample')['id'].tolist() for sample in hi_samples}"
   ]
  },
  {
   "cell_type": "code",
   "execution_count": 109,
   "id": "3ac25e57",
   "metadata": {},
   "outputs": [
    {
     "data": {
      "text/plain": [
       "49"
      ]
     },
     "execution_count": 109,
     "metadata": {},
     "output_type": "execute_result"
    }
   ],
   "source": [
    "len(enrich_dict['node_of_net'])\n",
    "# 运行 GSEA 分析并合"
   ]
  },
  {
   "cell_type": "code",
   "execution_count": 123,
   "id": "70429037",
   "metadata": {},
   "outputs": [
    {
     "name": "stderr",
     "output_type": "stream",
     "text": [
      "100%|█████████████████████████████████████████████████████████████████████████████████████████████████████████████████████████████████████████████████████████████████████████| 49/49 [02:56<00:00,  3.60s/it]\n"
     ]
    }
   ],
   "source": [
    "gene_lists = {sample: df.query('sample == @sample')['id'].tolist() for sample in list_samples}\n",
    "enrich_dict = {}\n",
    "# 运行 GSEA 分析并合并结果\n",
    "enrich_results = []\n",
    "for sample, genes in tqdm(gene_lists.items()):\n",
    "    enrichment_gsea = gp.enrichr(gene_list=genes, gene_sets=gmt, outdir=None)\n",
    "    enrichment_gsea.res2d['sample'] = sample\n",
    "    enrich_results.append(enrichment_gsea.res2d)\n",
    "\n",
    "enrich_dict['node_of_net'] = enrich_results"
   ]
  },
  {
   "cell_type": "code",
   "execution_count": null,
   "id": "82c28d03",
   "metadata": {},
   "outputs": [],
   "source": []
  },
  {
   "cell_type": "code",
   "execution_count": 124,
   "id": "9bcef7c8",
   "metadata": {},
   "outputs": [
    {
     "name": "stdout",
     "output_type": "stream",
     "text": [
      "Processing outsingle...: /mnt/disk7t/xwj/axolotl_rev/pfib_423/osg_res_1_001.txt\n"
     ]
    },
    {
     "name": "stderr",
     "output_type": "stream",
     "text": [
      "100%|██████████████████████████████████████████████████████████████████████████████████████████████████████████████████████████████████████████████████████████████████████| 49/49 [00:00<00:00, 24074.14it/s]\n",
      "100%|█████████████████████████████████████████████████████████████████████████████████████████████████████████████████████████████████████████████████████████████████████████| 49/49 [02:51<00:00,  3.50s/it]\n"
     ]
    }
   ],
   "source": [
    "# 以此基因数量为准，对score按照每列进行从小到大排序,这里涉及多种方法\n",
    "\n",
    "# your_dataset_file = '/media/eys/xwj/axolotl_rev/pfib_423/df_cts_gm2022_dedup.txt'\n",
    "\n",
    "#------------------------------------------------------------------------#\n",
    "gene_lists_by_score = {}\n",
    "'''上游异常表达基因的算法结果，有多种'''\n",
    "for method in [ 'outsingle', 'outrider' ]:\n",
    "    file = result_baseline[method]\n",
    "    print(f\"Processing {method}...: {file}\")\n",
    "    score = pd.read_csv(file, sep=\"\\t\", index_col=0)\n",
    "    if method == 'outrider':\n",
    "       score = score.pivot(index='geneID', columns='sampleID', values='pValue')\n",
    "\n",
    "    sorted_score = score.apply(lambda x: x.sort_values().index, axis=0)\n",
    "\n",
    "    # 针对每个样本从score中取出gene_list字典中此样本的相同数量的基因\n",
    "    gene_lists_by_score[method] = {}\n",
    "    for sample, genes in tqdm( gene_lists.items()):\n",
    "        gene_lists_by_score[method][sample] = sorted_score[sample][:len(genes)].tolist()\n",
    "    if False:\n",
    "        # 确认一下每个样本从选出的基因数量是否正确\n",
    "        for sample, genes in gene_lists_by_score[method].items():\n",
    "            print(f\"{sample}: take {len(genes)}, need {len(gene_lists[sample])}\")\n",
    "\n",
    "    # 进行GSEA分析\n",
    "    enrich_results = []\n",
    "    for sample, genes in tqdm( gene_lists_by_score[method].items()):\n",
    "        enrichment_gsea = gp.enrichr(gene_list=genes, gene_sets=gmt, outdir=None)\n",
    "        enrichment_gsea.res2d['sample'] = sample\n",
    "        enrich_results.append(enrichment_gsea.res2d)\n",
    "        \n",
    "    enrich_dict[ method ] = enrich_results"
   ]
  },
  {
   "cell_type": "code",
   "execution_count": 126,
   "id": "fa7f1e43",
   "metadata": {},
   "outputs": [
    {
     "name": "stdout",
     "output_type": "stream",
     "text": [
      "node_of_net (6921, 49)\n",
      "outsingle (7307, 49)\n",
      "outrider (7339, 49)\n"
     ]
    }
   ],
   "source": [
    "# 合并所有结果\n",
    "filtered_results = []\n",
    "\n",
    "for key in enrich_dict:\n",
    "    enrich_results = enrich_dict[key]\n",
    "    df_enrich = pd.concat(enrich_results)\n",
    "    \n",
    "    pivot_df = df_enrich.pivot(index='Term', columns='sample', values='Adjusted P-value')\n",
    "    pivot_df = pivot_df.fillna(1)\n",
    "    \n",
    "    # 阈值0.05进行过滤\n",
    "    # df_enrich = df_enrich[df_enrich['Adjusted P-value'] < 0.1]\n",
    "    # pivot_df = pivot_df.transform(lambda x: -np.log10(x)).astype(np.float32)\n",
    "    # pivot_df = pivot_df.replace(-0.0, 0.0)\n",
    "    \n",
    "    print(key, pivot_df.shape, )\n",
    "    filtered_results.append(pivot_df)\n",
    "\n",
    "# 将所有过滤后的结果保存到一个 dataframe 里\n",
    "final_df = pd.concat(filtered_results, keys=enrich_dict.keys())\n",
    "\n",
    "final_df = final_df[(final_df < 0.1).any(axis=1)] "
   ]
  },
  {
   "cell_type": "code",
   "execution_count": null,
   "id": "22d10358",
   "metadata": {},
   "outputs": [
    {
     "name": "stderr",
     "output_type": "stream",
     "text": [
      "/tmp/ipykernel_150183/2485214638.py:6: UserWarning: set_ticklabels() should only be used with a fixed number of ticks, i.e. after set_ticks() or using a FixedLocator.\n",
      "  ax.set_xticklabels(ax.get_xticklabels(), rotation=90)\n"
     ]
    },
    {
     "data": {
      "image/png": "[encoded data removed]",
      "text/plain": [
       "<Figure size 100x300 with 1 Axes>"
      ]
     },
     "metadata": {},
     "output_type": "display_data"
    }
   ],
   "source": [
    "draw = (final_df < 0.05).groupby(level=[0]).sum().T\n",
    "fig, ax = plt.subplots(figsize=(1, 3))\n",
    "# 绘制箱线图\n",
    "sns.boxplot(draw,fill=True, width=0.8, ax=ax)\n",
    "ax.set_xlabel('Method')\n",
    "ax.set_xticklabels(ax.get_xticklabels(), rotation=90)\n",
    "ax.set_ylabel('# of Enriched GO')\n",
    "# 保存为 SVG 文件\n",
    "plt.savefig(file_go_box, bbox_inches=\"tight\") "
   ]
  },
  {
   "cell_type": "code",
   "execution_count": 87,
   "id": "45b4d0f9",
   "metadata": {},
   "outputs": [],
   "source": [
    "# [final_df.index.levels[0], final_df.index.levels[1].map(lambda x: x.title() if x.startswith('GOBP_') else x)]\n",
    "final_df.index = final_df.index.set_levels([final_df.index.levels[0], final_df.index.levels[1].map(lambda x: x.title() if x.startswith('GOBP_') else x)], level=[0,1])\n",
    "final_df.round(3).to_csv(file_hi_gsea_result, sep='\\t')"
   ]
  },
  {
   "cell_type": "code",
   "execution_count": 88,
   "id": "3bb19894",
   "metadata": {},
   "outputs": [
    {
     "data": {
      "text/html": [
       "<div>\n",
       "<style scoped>\n",
       "    .dataframe tbody tr th:only-of-type {\n",
       "        vertical-align: middle;\n",
       "    }\n",
       "\n",
       "    .dataframe tbody tr th {\n",
       "        vertical-align: top;\n",
       "    }\n",
       "\n",
       "    .dataframe thead th {\n",
       "        text-align: right;\n",
       "    }\n",
       "</style>\n",
       "<table border=\"1\" class=\"dataframe\">\n",
       "  <thead>\n",
       "    <tr style=\"text-align: right;\">\n",
       "      <th></th>\n",
       "      <th>sample</th>\n",
       "      <th>R15264</th>\n",
       "      <th>R28774</th>\n",
       "      <th>R52016</th>\n",
       "    </tr>\n",
       "    <tr>\n",
       "      <th></th>\n",
       "      <th>Term</th>\n",
       "      <th></th>\n",
       "      <th></th>\n",
       "      <th></th>\n",
       "    </tr>\n",
       "  </thead>\n",
       "  <tbody>\n",
       "    <tr>\n",
       "      <th rowspan=\"5\" valign=\"top\">node_of_net</th>\n",
       "      <th>Gobp_Aerobic_Respiration</th>\n",
       "      <td>0.035789</td>\n",
       "      <td>0.303761</td>\n",
       "      <td>0.231197</td>\n",
       "    </tr>\n",
       "    <tr>\n",
       "      <th>Gobp_Apoptotic_Process</th>\n",
       "      <td>0.075128</td>\n",
       "      <td>0.728178</td>\n",
       "      <td>0.574174</td>\n",
       "    </tr>\n",
       "    <tr>\n",
       "      <th>Gobp_Cellular_Respiration</th>\n",
       "      <td>0.070547</td>\n",
       "      <td>0.216029</td>\n",
       "      <td>0.182512</td>\n",
       "    </tr>\n",
       "    <tr>\n",
       "      <th>Gobp_Cell_Cycle</th>\n",
       "      <td>0.012711</td>\n",
       "      <td>0.597728</td>\n",
       "      <td>0.540260</td>\n",
       "    </tr>\n",
       "    <tr>\n",
       "      <th>Gobp_Cell_Cycle_Process</th>\n",
       "      <td>0.012711</td>\n",
       "      <td>0.434141</td>\n",
       "      <td>0.662311</td>\n",
       "    </tr>\n",
       "  </tbody>\n",
       "</table>\n",
       "</div>"
      ],
      "text/plain": [
       "sample                                   R15264    R28774    R52016\n",
       "            Term                                                   \n",
       "node_of_net Gobp_Aerobic_Respiration   0.035789  0.303761  0.231197\n",
       "            Gobp_Apoptotic_Process     0.075128  0.728178  0.574174\n",
       "            Gobp_Cellular_Respiration  0.070547  0.216029  0.182512\n",
       "            Gobp_Cell_Cycle            0.012711  0.597728  0.540260\n",
       "            Gobp_Cell_Cycle_Process    0.012711  0.434141  0.662311"
      ]
     },
     "execution_count": 88,
     "metadata": {},
     "output_type": "execute_result"
    }
   ],
   "source": [
    "final_df.head()"
   ]
  },
  {
   "cell_type": "code",
   "execution_count": 90,
   "id": "4dedba1b",
   "metadata": {},
   "outputs": [
    {
     "name": "stdout",
     "output_type": "stream",
     "text": [
      "total 5.4M\n",
      "-rw-rw-r--  1 xwj xwj  24K May 15 08:47 go_box.svg\n",
      "-rw-rw-r--  1 xwj xwj  29K May 15 08:47 gsea_heatmap_node_of_net.pdf\n",
      "-rw-rw-r--  1 xwj xwj  19K May 15 08:47 gsea_heatmap_outsingle.pdf\n",
      "-rw-rw-r--  1 xwj xwj  17K May 15 08:47 gsea_heatmap_outrider.pdf\n",
      "-rw-rw-r--  1 xwj xwj 5.3M May 15 16:34 gmt.pkl\n",
      "-rw-rw-r--. 1 xwj xwj 5.7K May 15 16:42 gsea_results.txt\n"
     ]
    }
   ],
   "source": [
    "! ls -lhrt {outdir}"
   ]
  },
  {
   "cell_type": "code",
   "execution_count": 99,
   "id": "26edba25",
   "metadata": {},
   "outputs": [
    {
     "data": {
      "image/png": "[encoded data removed]",
      "text/plain": [
       "<Figure size 300x720 with 4 Axes>"
      ]
     },
     "metadata": {},
     "output_type": "display_data"
    },
    {
     "data": {
      "image/png": "[encoded data removed]",
      "text/plain": [
       "<Figure size 300x333.333 with 4 Axes>"
      ]
     },
     "metadata": {},
     "output_type": "display_data"
    },
    {
     "data": {
      "image/png": "[encoded data removed]",
      "text/plain": [
       "<Figure size 300x133.333 with 4 Axes>"
      ]
     },
     "metadata": {},
     "output_type": "display_data"
    }
   ],
   "source": [
    "\n",
    "# 绘制热图\n",
    "#  figsize=(3,5),\n",
    "methods = final_df.index.levels[0]\n",
    "for method in methods:\n",
    "    method_df = final_df.loc[method]\n",
    "    fig_width, fig_height = 3, method_df.shape[0]/15\n",
    "    if fig_height < 3:\n",
    "        fig_height = 3\n",
    "    if len(hi_samples) < 4:\n",
    "        if method == 'node_of_net':\n",
    "            fig_height = method_df.shape[0]/10\n",
    "        else:\n",
    "            fig_height = method_df.shape[0]/3\n",
    "    else:\n",
    "        fig_width = method_df.shape[0]/5\n",
    "        fig_height = method_df.shape[0]/20\n",
    "    g = sns.clustermap(method_df, cmap='Blues_r', col_cluster=False, row_cluster=True, z_score=None,\n",
    "                       linewidths=0.1, linecolor='black', vmin = 0,\n",
    "                        # dendrogram_ratio=(0.5,0.1), colors_ratio=0.05, cbar_pos=(0, 0.5, 0.05,0.3, ), cbar_kws={'ticks':[-2, -1,0,1, 2, 3]},  \n",
    "                        cbar_pos=(-0.2, 0.5, 0.1, 0.3),  dendrogram_ratio=(0.3,0.1), yticklabels=False, figsize=(fig_width, fig_height))\n",
    "    # g.ax_heatmap.set_title(f'Heatmap for {method}')\n",
    "    #                   ) # standard_scale=1,\n",
    "    g.fig.suptitle(f'{method}',fontsize=10) \n",
    "    # plt.setp(g.ax_heatmap.yaxis.get_majorticklabels(), fontsize=3)  \n",
    "    # plt.tight_layout()\n",
    "    plt.savefig(file_heatmap_template.format(outdir=outdir, method=method), bbox_inches='tight')\n",
    "    # # Adjust the fontsize for y-axis labels"
   ]
  },
  {
   "cell_type": "code",
   "execution_count": 100,
   "id": "66eb8e0b",
   "metadata": {},
   "outputs": [
    {
     "data": {
      "text/html": [
       "<div>\n",
       "<style scoped>\n",
       "    .dataframe tbody tr th:only-of-type {\n",
       "        vertical-align: middle;\n",
       "    }\n",
       "\n",
       "    .dataframe tbody tr th {\n",
       "        vertical-align: top;\n",
       "    }\n",
       "\n",
       "    .dataframe thead th {\n",
       "        text-align: right;\n",
       "    }\n",
       "</style>\n",
       "<table border=\"1\" class=\"dataframe\">\n",
       "  <thead>\n",
       "    <tr style=\"text-align: right;\">\n",
       "      <th>sample</th>\n",
       "      <th>R15264</th>\n",
       "      <th>R28774</th>\n",
       "      <th>R52016</th>\n",
       "    </tr>\n",
       "    <tr>\n",
       "      <th>Term</th>\n",
       "      <th></th>\n",
       "      <th></th>\n",
       "      <th></th>\n",
       "    </tr>\n",
       "  </thead>\n",
       "  <tbody>\n",
       "    <tr>\n",
       "      <th>Gobp_Nls_Bearing_Protein_Import_Into_Nucleus</th>\n",
       "      <td>1.0</td>\n",
       "      <td>1.0</td>\n",
       "      <td>0.031004</td>\n",
       "    </tr>\n",
       "    <tr>\n",
       "      <th>Gobp_Peptidyl_Lysine_Methylation</th>\n",
       "      <td>1.0</td>\n",
       "      <td>1.0</td>\n",
       "      <td>0.031004</td>\n",
       "    </tr>\n",
       "    <tr>\n",
       "      <th>Gobp_Regulation_Of_Protein_Exit_From_Endoplasmic_Reticulum</th>\n",
       "      <td>1.0</td>\n",
       "      <td>1.0</td>\n",
       "      <td>0.031004</td>\n",
       "    </tr>\n",
       "    <tr>\n",
       "      <th>Gobp_Regulation_Of_Retrograde_Protein_Transport_Er_To_Cytosol</th>\n",
       "      <td>1.0</td>\n",
       "      <td>1.0</td>\n",
       "      <td>0.063748</td>\n",
       "    </tr>\n",
       "  </tbody>\n",
       "</table>\n",
       "</div>"
      ],
      "text/plain": [
       "sample                                              R15264  R28774    R52016\n",
       "Term                                                                        \n",
       "Gobp_Nls_Bearing_Protein_Import_Into_Nucleus           1.0     1.0  0.031004\n",
       "Gobp_Peptidyl_Lysine_Methylation                       1.0     1.0  0.031004\n",
       "Gobp_Regulation_Of_Protein_Exit_From_Endoplasmi...     1.0     1.0  0.031004\n",
       "Gobp_Regulation_Of_Retrograde_Protein_Transport...     1.0     1.0  0.063748"
      ]
     },
     "execution_count": 100,
     "metadata": {},
     "output_type": "execute_result"
    }
   ],
   "source": [
    "method_df"
   ]
  },
  {
   "cell_type": "code",
   "execution_count": null,
   "id": "0c7e9158",
   "metadata": {},
   "outputs": [],
   "source": []
  }
 ],
 "metadata": {
  "kernelspec": {
   "display_name": "Python [conda env:py3.12]",
   "language": "python",
   "name": "conda-env-py3.12-py"
  },
  "language_info": {
   "codemirror_mode": {
    "name": "ipython",
    "version": 3
   },
   "file_extension": ".py",
   "mimetype": "text/x-python",
   "name": "python",
   "nbconvert_exporter": "python",
   "pygments_lexer": "ipython3",
   "version": "3.12.9"
  }
 },
 "nbformat": 4,
 "nbformat_minor": 5
}
